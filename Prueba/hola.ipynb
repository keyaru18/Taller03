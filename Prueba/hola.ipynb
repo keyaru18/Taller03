{
 "cells": [
  {
   "cell_type": "markdown",
   "id": "4adc9261",
   "metadata": {
    "vscode": {
     "languageId": "plaintext"
    }
   },
   "source": [
    "# HOLA\n"
   ]
  },
  {
   "cell_type": "code",
   "execution_count": null,
   "id": "77ab59fb",
   "metadata": {
    "vscode": {
     "languageId": "plaintext"
    }
   },
   "outputs": [],
   "source": []
  }
 ],
 "metadata": {
  "language_info": {
   "name": "python"
  }
 },
 "nbformat": 4,
 "nbformat_minor": 5
}
